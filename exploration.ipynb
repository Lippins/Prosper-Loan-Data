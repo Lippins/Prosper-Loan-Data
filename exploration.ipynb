{
 "cells": [
  {
   "cell_type": "markdown",
   "metadata": {
    "tags": []
   },
   "source": [
    "# Part I - Exploring Prosper Loan Data\n",
    "## by Israel Ogunmola\n",
    "\n",
    "## Introduction\n",
    "---\n",
    "\n",
    "If you want to consolidate debt, finance a large purchase, or cover an emergency expense, a personal loan can be immensely useful. However, many personal loan lenders require borrowers to have good or excellent credit, making it difficult to qualify for a loan. Borrowers with credit ratings in the fair range or below may have better chances of obtaining loans at a better rate by working with a peer-to-peer lender.\n",
    "\n",
    "[Prosper is a personal loan pioneer](https://www.prosper.com/) — the US company became the first firm to enter the peer-to-peer lending arena when it launched in 2005. Since then, the platfom has originated more than 20 billion USD in personal loans by matching over 1,170,000 borrowers to potential investors through its online platform. Prosper offers unsecured personal loans to customers who have a minimum credit score of 640. It also provides home equity lines of credit (HELOCs).\n",
    "\n",
    "Our goal is to explore a sample of Prosper loan data to uncover borrower motivations when applying for loans, and identify several factors that may influence loan favorability.\n",
    "\n",
    "## Importing Libraries\n",
    "---\n",
    " \n",
    "A great way to start is by importing the libraries and packages we need. We will import the **Numpy** and **Pandas** libraries to help us load and perform quick, vectorized operations on our data, then the **Matplotlib** and **Seaborn** libraries to help us build informing visuals:"
   ]
  },
  {
   "cell_type": "code",
   "execution_count": 1,
   "metadata": {},
   "outputs": [],
   "source": [
    "# Data analysis and visualization packages\n",
    "import numpy as np\n",
    "import pandas as pd\n",
    "import requests\n",
    "from IPython.display import HTML, display\n",
    "import matplotlib.pyplot as plt\n",
    "import seaborn as sns\n",
    "\n",
    "# Configure visualization behaviours\n",
    "%matplotlib inline\n",
    "plt.style.use('tableau-colorblind10')\n",
    "%config InlineBackend.figure_format = 'retina'"
   ]
  },
  {
   "cell_type": "markdown",
   "metadata": {},
   "source": [
    "## Preliminary Wrangling\n",
    "---\n",
    "We will start by importing our dataset, `prosperLoanData.csv`, then reading it into a pandas dataframe:"
   ]
  },
  {
   "cell_type": "code",
   "execution_count": 2,
   "metadata": {},
   "outputs": [],
   "source": [
    "df = pd.read_csv('./prosperLoanData.csv')"
   ]
  },
  {
   "cell_type": "code",
   "execution_count": 3,
   "metadata": {},
   "outputs": [
    {
     "name": "stdout",
     "output_type": "stream",
     "text": [
      "<class 'pandas.core.frame.DataFrame'>\n",
      "RangeIndex: 113937 entries, 0 to 113936\n",
      "Data columns (total 81 columns):\n",
      " #   Column                               Non-Null Count   Dtype  \n",
      "---  ------                               --------------   -----  \n",
      " 0   ListingKey                           113937 non-null  object \n",
      " 1   ListingNumber                        113937 non-null  int64  \n",
      " 2   ListingCreationDate                  113937 non-null  object \n",
      " 3   CreditGrade                          28953 non-null   object \n",
      " 4   Term                                 113937 non-null  int64  \n",
      " 5   LoanStatus                           113937 non-null  object \n",
      " 6   ClosedDate                           55089 non-null   object \n",
      " 7   BorrowerAPR                          113912 non-null  float64\n",
      " 8   BorrowerRate                         113937 non-null  float64\n",
      " 9   LenderYield                          113937 non-null  float64\n",
      " 10  EstimatedEffectiveYield              84853 non-null   float64\n",
      " 11  EstimatedLoss                        84853 non-null   float64\n",
      " 12  EstimatedReturn                      84853 non-null   float64\n",
      " 13  ProsperRating (numeric)              84853 non-null   float64\n",
      " 14  ProsperRating (Alpha)                84853 non-null   object \n",
      " 15  ProsperScore                         84853 non-null   float64\n",
      " 16  ListingCategory (numeric)            113937 non-null  int64  \n",
      " 17  BorrowerState                        108422 non-null  object \n",
      " 18  Occupation                           110349 non-null  object \n",
      " 19  EmploymentStatus                     111682 non-null  object \n",
      " 20  EmploymentStatusDuration             106312 non-null  float64\n",
      " 21  IsBorrowerHomeowner                  113937 non-null  bool   \n",
      " 22  CurrentlyInGroup                     113937 non-null  bool   \n",
      " 23  GroupKey                             13341 non-null   object \n",
      " 24  DateCreditPulled                     113937 non-null  object \n",
      " 25  CreditScoreRangeLower                113346 non-null  float64\n",
      " 26  CreditScoreRangeUpper                113346 non-null  float64\n",
      " 27  FirstRecordedCreditLine              113240 non-null  object \n",
      " 28  CurrentCreditLines                   106333 non-null  float64\n",
      " 29  OpenCreditLines                      106333 non-null  float64\n",
      " 30  TotalCreditLinespast7years           113240 non-null  float64\n",
      " 31  OpenRevolvingAccounts                113937 non-null  int64  \n",
      " 32  OpenRevolvingMonthlyPayment          113937 non-null  float64\n",
      " 33  InquiriesLast6Months                 113240 non-null  float64\n",
      " 34  TotalInquiries                       112778 non-null  float64\n",
      " 35  CurrentDelinquencies                 113240 non-null  float64\n",
      " 36  AmountDelinquent                     106315 non-null  float64\n",
      " 37  DelinquenciesLast7Years              112947 non-null  float64\n",
      " 38  PublicRecordsLast10Years             113240 non-null  float64\n",
      " 39  PublicRecordsLast12Months            106333 non-null  float64\n",
      " 40  RevolvingCreditBalance               106333 non-null  float64\n",
      " 41  BankcardUtilization                  106333 non-null  float64\n",
      " 42  AvailableBankcardCredit              106393 non-null  float64\n",
      " 43  TotalTrades                          106393 non-null  float64\n",
      " 44  TradesNeverDelinquent (percentage)   106393 non-null  float64\n",
      " 45  TradesOpenedLast6Months              106393 non-null  float64\n",
      " 46  DebtToIncomeRatio                    105383 non-null  float64\n",
      " 47  IncomeRange                          113937 non-null  object \n",
      " 48  IncomeVerifiable                     113937 non-null  bool   \n",
      " 49  StatedMonthlyIncome                  113937 non-null  float64\n",
      " 50  LoanKey                              113937 non-null  object \n",
      " 51  TotalProsperLoans                    22085 non-null   float64\n",
      " 52  TotalProsperPaymentsBilled           22085 non-null   float64\n",
      " 53  OnTimeProsperPayments                22085 non-null   float64\n",
      " 54  ProsperPaymentsLessThanOneMonthLate  22085 non-null   float64\n",
      " 55  ProsperPaymentsOneMonthPlusLate      22085 non-null   float64\n",
      " 56  ProsperPrincipalBorrowed             22085 non-null   float64\n",
      " 57  ProsperPrincipalOutstanding          22085 non-null   float64\n",
      " 58  ScorexChangeAtTimeOfListing          18928 non-null   float64\n",
      " 59  LoanCurrentDaysDelinquent            113937 non-null  int64  \n",
      " 60  LoanFirstDefaultedCycleNumber        16952 non-null   float64\n",
      " 61  LoanMonthsSinceOrigination           113937 non-null  int64  \n",
      " 62  LoanNumber                           113937 non-null  int64  \n",
      " 63  LoanOriginalAmount                   113937 non-null  int64  \n",
      " 64  LoanOriginationDate                  113937 non-null  object \n",
      " 65  LoanOriginationQuarter               113937 non-null  object \n",
      " 66  MemberKey                            113937 non-null  object \n",
      " 67  MonthlyLoanPayment                   113937 non-null  float64\n",
      " 68  LP_CustomerPayments                  113937 non-null  float64\n",
      " 69  LP_CustomerPrincipalPayments         113937 non-null  float64\n",
      " 70  LP_InterestandFees                   113937 non-null  float64\n",
      " 71  LP_ServiceFees                       113937 non-null  float64\n",
      " 72  LP_CollectionFees                    113937 non-null  float64\n",
      " 73  LP_GrossPrincipalLoss                113937 non-null  float64\n",
      " 74  LP_NetPrincipalLoss                  113937 non-null  float64\n",
      " 75  LP_NonPrincipalRecoverypayments      113937 non-null  float64\n",
      " 76  PercentFunded                        113937 non-null  float64\n",
      " 77  Recommendations                      113937 non-null  int64  \n",
      " 78  InvestmentFromFriendsCount           113937 non-null  int64  \n",
      " 79  InvestmentFromFriendsAmount          113937 non-null  float64\n",
      " 80  Investors                            113937 non-null  int64  \n",
      "dtypes: bool(3), float64(50), int64(11), object(17)\n",
      "memory usage: 68.1+ MB\n"
     ]
    }
   ],
   "source": [
    "# Display quick summary information about the dataframe\n",
    "df.info()"
   ]
  },
  {
   "cell_type": "markdown",
   "metadata": {},
   "source": [
    "### Initial Notes on Dataset Structure:\n",
    ">- The dataframe comprises **113,937** rows and **81** columns (features). 56 of these 81 columns (69%) contain numeric data. There is a wealth of information that describes the situations surrounding each loan in the dataset.\n",
    "\n",
    "### Features of Interest\n",
    "The dataset currently contains loads of information. However, the goal of this exploration is to understand the different borrower motivations when applying for loans, including the different factors that may influence loan favorability. As a result, we will direct our exploratory efforts towards the following features:\n",
    ">(1.) **ListingCreationDate:** The date the listing was created.\n",
    "\n",
    ">(2.) **ListingCategory (numeric):** The category of the listing that the borrower selected when posting their listing: 0 - Not Available, 1 - Debt Consolidation, 2 - Home Improvement, 3 - Business, 4 - Personal Loan, 5 - Student Use, 6 - Auto, 7- Other, 8 - Baby&Adoption, 9 - Boat, 10 - Cosmetic Procedure, 11 - Engagement Ring, 12 - Green Loans, 13 - Household Expenses, 14 - Large Purchases, 15 - Medical/Dental, 16 - Motorcycle, 17 - RV, 18 - Taxes, 19 - Vacation, 20 - Wedding Loans.\n",
    "\n",
    ">(3.) **BorrowerState:** The two letter abbreviation of the state of the address of the borrower at the time the Listing was created.\n",
    "\n",
    ">(4.) **isBorrowerHomeowner:** A Borrower will be classified as a homowner if they have a mortgage on their credit profile or provide documentation confirming they are a homeowner.\n",
    "\n",
    ">(5.) **IncomeRange:** The income range of the borrower at the time the listing was created.\n",
    "\n",
    ">(6.) **IncomeVerifiable:** The borrower indicated they have the required documentation to support their income.\n",
    "\n",
    ">(7.) **DebtToIncomeRatio:** The debt to income ratio of the borrower at the time the credit profile was pulled. This value is Null if the debt to income ratio is not available. This value is capped at 10.01 (any debt to income ratio larger than 1000% will be returned as 1001%).\n",
    "\n",
    ">(8.) **StatedMonthlyIncome:** The monthly income the borrower stated at the time the listing was created.\n",
    "\n",
    ">(9.) **ProsperRating (Alpha):** The Prosper Rating assigned at the time the listing was created between AA - HR. Applicable for loans originated after July 2009.\n",
    "\n",
    ">(10.) **Term:** The length of the loan expressed in months.\n",
    "\n",
    ">(11.) **EmploymentStatus:** The employment status of the borrower at the time they posted the listing.\n",
    "\n",
    ">(12.) **LoanStatus:** The current status of the loan: Cancelled, Chargedoff, Completed, Current, Defaulted, FinalPaymentInProgress, PastDue. The PastDue status will be accompanied by a delinquency bucket.\n",
    "\n",
    ">(13.) **LoanOriginalAmount:** The origination amount of the loan.\n",
    "\n",
    ">(14.) **BorrowerAPR:** The Borrower's Annual Percentage Rate (APR) for the loan.\n",
    "\n",
    "Generally, we aim to measure loan favorability in terms of **Prosper rating** and **Annual percentage rate (borrower APR)**.\n",
    "\n",
    "## Data Assessment\n",
    "---\n",
    "We will now assess our dataframe, with particular focus on the features of interest. The major goal here is data exploration, hence findings on quality and tidiness will be collated under the assessment summary, and addressed using a brief and concise cleaning workflow.\n",
    "\n",
    "First, let's create a list containing the key features for our analysis:"
   ]
  },
  {
   "cell_type": "code",
   "execution_count": 4,
   "metadata": {},
   "outputs": [],
   "source": [
    "# Create a list of key feature names\n",
    "key_features = ['ListingCreationDate', 'ListingCategory (numeric)', 'BorrowerState', 'IsBorrowerHomeowner',\n",
    "                'IncomeRange', 'IncomeVerifiable', 'DebtToIncomeRatio', 'StatedMonthlyIncome', 'Term', 'ProsperRating (Alpha)',\n",
    "                'EmploymentStatus', 'LoanStatus', 'LoanOriginalAmount', 'BorrowerAPR']"
   ]
  },
  {
   "cell_type": "markdown",
   "metadata": {},
   "source": [
    "Next, we will examine a sample of records from these features in pandas, coupled with thorough visual assessments in a spreadsheet software like Ms Excel:"
   ]
  },
  {
   "cell_type": "code",
   "execution_count": 5,
   "metadata": {},
   "outputs": [
    {
     "data": {
      "text/html": [
       "<div>\n",
       "<style scoped>\n",
       "    .dataframe tbody tr th:only-of-type {\n",
       "        vertical-align: middle;\n",
       "    }\n",
       "\n",
       "    .dataframe tbody tr th {\n",
       "        vertical-align: top;\n",
       "    }\n",
       "\n",
       "    .dataframe thead th {\n",
       "        text-align: right;\n",
       "    }\n",
       "</style>\n",
       "<table border=\"1\" class=\"dataframe\">\n",
       "  <thead>\n",
       "    <tr style=\"text-align: right;\">\n",
       "      <th></th>\n",
       "      <th>ListingCreationDate</th>\n",
       "      <th>ListingCategory (numeric)</th>\n",
       "      <th>BorrowerState</th>\n",
       "      <th>IsBorrowerHomeowner</th>\n",
       "      <th>IncomeRange</th>\n",
       "      <th>IncomeVerifiable</th>\n",
       "      <th>DebtToIncomeRatio</th>\n",
       "      <th>StatedMonthlyIncome</th>\n",
       "      <th>Term</th>\n",
       "      <th>ProsperRating (Alpha)</th>\n",
       "      <th>EmploymentStatus</th>\n",
       "      <th>LoanStatus</th>\n",
       "      <th>LoanOriginalAmount</th>\n",
       "      <th>BorrowerAPR</th>\n",
       "    </tr>\n",
       "  </thead>\n",
       "  <tbody>\n",
       "    <tr>\n",
       "      <th>21161</th>\n",
       "      <td>2010-09-01 11:55:34.210000000</td>\n",
       "      <td>1</td>\n",
       "      <td>GA</td>\n",
       "      <td>True</td>\n",
       "      <td>$25,000-49,999</td>\n",
       "      <td>True</td>\n",
       "      <td>0.30000</td>\n",
       "      <td>2083.333333</td>\n",
       "      <td>36</td>\n",
       "      <td>HR</td>\n",
       "      <td>Full-time</td>\n",
       "      <td>Completed</td>\n",
       "      <td>1500</td>\n",
       "      <td>0.21523</td>\n",
       "    </tr>\n",
       "    <tr>\n",
       "      <th>77366</th>\n",
       "      <td>2013-10-11 01:11:16.190000000</td>\n",
       "      <td>1</td>\n",
       "      <td>NV</td>\n",
       "      <td>False</td>\n",
       "      <td>$50,000-74,999</td>\n",
       "      <td>True</td>\n",
       "      <td>0.22000</td>\n",
       "      <td>4916.666667</td>\n",
       "      <td>60</td>\n",
       "      <td>D</td>\n",
       "      <td>Employed</td>\n",
       "      <td>Current</td>\n",
       "      <td>13000</td>\n",
       "      <td>0.26333</td>\n",
       "    </tr>\n",
       "    <tr>\n",
       "      <th>90925</th>\n",
       "      <td>2007-11-19 04:46:41.540000000</td>\n",
       "      <td>0</td>\n",
       "      <td>MD</td>\n",
       "      <td>True</td>\n",
       "      <td>$100,000+</td>\n",
       "      <td>True</td>\n",
       "      <td>0.14000</td>\n",
       "      <td>11250.000000</td>\n",
       "      <td>36</td>\n",
       "      <td>NaN</td>\n",
       "      <td>Full-time</td>\n",
       "      <td>Completed</td>\n",
       "      <td>9000</td>\n",
       "      <td>0.12700</td>\n",
       "    </tr>\n",
       "    <tr>\n",
       "      <th>17625</th>\n",
       "      <td>2013-06-12 08:14:14.717000000</td>\n",
       "      <td>7</td>\n",
       "      <td>OH</td>\n",
       "      <td>False</td>\n",
       "      <td>$1-24,999</td>\n",
       "      <td>True</td>\n",
       "      <td>0.50000</td>\n",
       "      <td>1500.000000</td>\n",
       "      <td>36</td>\n",
       "      <td>C</td>\n",
       "      <td>Employed</td>\n",
       "      <td>Current</td>\n",
       "      <td>4000</td>\n",
       "      <td>0.22712</td>\n",
       "    </tr>\n",
       "    <tr>\n",
       "      <th>48952</th>\n",
       "      <td>2013-07-12 08:04:13.423000000</td>\n",
       "      <td>1</td>\n",
       "      <td>FL</td>\n",
       "      <td>True</td>\n",
       "      <td>$1-24,999</td>\n",
       "      <td>True</td>\n",
       "      <td>0.36000</td>\n",
       "      <td>1137.000000</td>\n",
       "      <td>36</td>\n",
       "      <td>D</td>\n",
       "      <td>Other</td>\n",
       "      <td>Current</td>\n",
       "      <td>4000</td>\n",
       "      <td>0.29537</td>\n",
       "    </tr>\n",
       "    <tr>\n",
       "      <th>7768</th>\n",
       "      <td>2007-08-09 09:29:17.980000000</td>\n",
       "      <td>0</td>\n",
       "      <td>OH</td>\n",
       "      <td>True</td>\n",
       "      <td>$25,000-49,999</td>\n",
       "      <td>True</td>\n",
       "      <td>0.17000</td>\n",
       "      <td>3208.333333</td>\n",
       "      <td>36</td>\n",
       "      <td>NaN</td>\n",
       "      <td>Full-time</td>\n",
       "      <td>Completed</td>\n",
       "      <td>3000</td>\n",
       "      <td>0.22241</td>\n",
       "    </tr>\n",
       "    <tr>\n",
       "      <th>97119</th>\n",
       "      <td>2013-06-13 13:46:52.023000000</td>\n",
       "      <td>1</td>\n",
       "      <td>MA</td>\n",
       "      <td>True</td>\n",
       "      <td>$75,000-99,999</td>\n",
       "      <td>True</td>\n",
       "      <td>0.14000</td>\n",
       "      <td>6500.000000</td>\n",
       "      <td>60</td>\n",
       "      <td>A</td>\n",
       "      <td>Employed</td>\n",
       "      <td>Current</td>\n",
       "      <td>20000</td>\n",
       "      <td>0.14965</td>\n",
       "    </tr>\n",
       "    <tr>\n",
       "      <th>39370</th>\n",
       "      <td>2013-09-12 16:56:41.283000000</td>\n",
       "      <td>1</td>\n",
       "      <td>IL</td>\n",
       "      <td>False</td>\n",
       "      <td>$25,000-49,999</td>\n",
       "      <td>True</td>\n",
       "      <td>0.20000</td>\n",
       "      <td>3916.666667</td>\n",
       "      <td>60</td>\n",
       "      <td>E</td>\n",
       "      <td>Employed</td>\n",
       "      <td>Current</td>\n",
       "      <td>10000</td>\n",
       "      <td>0.29618</td>\n",
       "    </tr>\n",
       "    <tr>\n",
       "      <th>39788</th>\n",
       "      <td>2011-10-25 14:16:30.013000000</td>\n",
       "      <td>3</td>\n",
       "      <td>TX</td>\n",
       "      <td>False</td>\n",
       "      <td>Not employed</td>\n",
       "      <td>False</td>\n",
       "      <td>NaN</td>\n",
       "      <td>0.000000</td>\n",
       "      <td>36</td>\n",
       "      <td>HR</td>\n",
       "      <td>Not employed</td>\n",
       "      <td>Chargedoff</td>\n",
       "      <td>4000</td>\n",
       "      <td>0.35643</td>\n",
       "    </tr>\n",
       "    <tr>\n",
       "      <th>60848</th>\n",
       "      <td>2013-09-18 10:13:36.430000000</td>\n",
       "      <td>7</td>\n",
       "      <td>NJ</td>\n",
       "      <td>False</td>\n",
       "      <td>$25,000-49,999</td>\n",
       "      <td>True</td>\n",
       "      <td>0.43000</td>\n",
       "      <td>4003.000000</td>\n",
       "      <td>36</td>\n",
       "      <td>D</td>\n",
       "      <td>Employed</td>\n",
       "      <td>Current</td>\n",
       "      <td>10000</td>\n",
       "      <td>0.24614</td>\n",
       "    </tr>\n",
       "    <tr>\n",
       "      <th>64287</th>\n",
       "      <td>2006-03-14 06:50:23.310000000</td>\n",
       "      <td>0</td>\n",
       "      <td>NaN</td>\n",
       "      <td>False</td>\n",
       "      <td>Not displayed</td>\n",
       "      <td>True</td>\n",
       "      <td>0.30815</td>\n",
       "      <td>3333.333333</td>\n",
       "      <td>36</td>\n",
       "      <td>NaN</td>\n",
       "      <td>NaN</td>\n",
       "      <td>Defaulted</td>\n",
       "      <td>20000</td>\n",
       "      <td>0.16617</td>\n",
       "    </tr>\n",
       "    <tr>\n",
       "      <th>65118</th>\n",
       "      <td>2008-02-26 14:20:23.243000000</td>\n",
       "      <td>1</td>\n",
       "      <td>AZ</td>\n",
       "      <td>False</td>\n",
       "      <td>$25,000-49,999</td>\n",
       "      <td>True</td>\n",
       "      <td>0.36000</td>\n",
       "      <td>2400.000000</td>\n",
       "      <td>36</td>\n",
       "      <td>NaN</td>\n",
       "      <td>Full-time</td>\n",
       "      <td>Completed</td>\n",
       "      <td>10000</td>\n",
       "      <td>0.19647</td>\n",
       "    </tr>\n",
       "    <tr>\n",
       "      <th>73539</th>\n",
       "      <td>2007-05-17 09:15:45.613000000</td>\n",
       "      <td>0</td>\n",
       "      <td>OH</td>\n",
       "      <td>False</td>\n",
       "      <td>$25,000-49,999</td>\n",
       "      <td>True</td>\n",
       "      <td>0.43000</td>\n",
       "      <td>3000.000000</td>\n",
       "      <td>36</td>\n",
       "      <td>NaN</td>\n",
       "      <td>Full-time</td>\n",
       "      <td>Completed</td>\n",
       "      <td>13500</td>\n",
       "      <td>0.16657</td>\n",
       "    </tr>\n",
       "    <tr>\n",
       "      <th>94301</th>\n",
       "      <td>2013-02-20 17:23:23.670000000</td>\n",
       "      <td>1</td>\n",
       "      <td>NJ</td>\n",
       "      <td>True</td>\n",
       "      <td>$100,000+</td>\n",
       "      <td>True</td>\n",
       "      <td>0.12000</td>\n",
       "      <td>9833.333333</td>\n",
       "      <td>36</td>\n",
       "      <td>E</td>\n",
       "      <td>Employed</td>\n",
       "      <td>Completed</td>\n",
       "      <td>3000</td>\n",
       "      <td>0.32538</td>\n",
       "    </tr>\n",
       "    <tr>\n",
       "      <th>109437</th>\n",
       "      <td>2012-03-03 12:34:07.980000000</td>\n",
       "      <td>8</td>\n",
       "      <td>FL</td>\n",
       "      <td>True</td>\n",
       "      <td>$100,000+</td>\n",
       "      <td>True</td>\n",
       "      <td>0.18000</td>\n",
       "      <td>9750.000000</td>\n",
       "      <td>36</td>\n",
       "      <td>B</td>\n",
       "      <td>Employed</td>\n",
       "      <td>Chargedoff</td>\n",
       "      <td>15000</td>\n",
       "      <td>0.17359</td>\n",
       "    </tr>\n",
       "    <tr>\n",
       "      <th>68803</th>\n",
       "      <td>2013-09-15 06:15:57.923000000</td>\n",
       "      <td>7</td>\n",
       "      <td>IN</td>\n",
       "      <td>True</td>\n",
       "      <td>$25,000-49,999</td>\n",
       "      <td>True</td>\n",
       "      <td>0.30000</td>\n",
       "      <td>3040.000000</td>\n",
       "      <td>60</td>\n",
       "      <td>D</td>\n",
       "      <td>Employed</td>\n",
       "      <td>Current</td>\n",
       "      <td>10000</td>\n",
       "      <td>0.23318</td>\n",
       "    </tr>\n",
       "    <tr>\n",
       "      <th>107693</th>\n",
       "      <td>2014-02-10 12:28:49.937000000</td>\n",
       "      <td>19</td>\n",
       "      <td>TX</td>\n",
       "      <td>False</td>\n",
       "      <td>$50,000-74,999</td>\n",
       "      <td>True</td>\n",
       "      <td>0.15000</td>\n",
       "      <td>5666.666667</td>\n",
       "      <td>36</td>\n",
       "      <td>A</td>\n",
       "      <td>Employed</td>\n",
       "      <td>Current</td>\n",
       "      <td>10000</td>\n",
       "      <td>0.15260</td>\n",
       "    </tr>\n",
       "    <tr>\n",
       "      <th>78671</th>\n",
       "      <td>2012-11-21 05:40:11.047000000</td>\n",
       "      <td>3</td>\n",
       "      <td>MN</td>\n",
       "      <td>False</td>\n",
       "      <td>$1-24,999</td>\n",
       "      <td>True</td>\n",
       "      <td>0.27000</td>\n",
       "      <td>1666.666667</td>\n",
       "      <td>60</td>\n",
       "      <td>D</td>\n",
       "      <td>Employed</td>\n",
       "      <td>Current</td>\n",
       "      <td>10217</td>\n",
       "      <td>0.27462</td>\n",
       "    </tr>\n",
       "    <tr>\n",
       "      <th>81917</th>\n",
       "      <td>2007-06-06 04:39:58.487000000</td>\n",
       "      <td>0</td>\n",
       "      <td>GA</td>\n",
       "      <td>True</td>\n",
       "      <td>$0</td>\n",
       "      <td>False</td>\n",
       "      <td>NaN</td>\n",
       "      <td>0.000000</td>\n",
       "      <td>36</td>\n",
       "      <td>NaN</td>\n",
       "      <td>Full-time</td>\n",
       "      <td>Chargedoff</td>\n",
       "      <td>25000</td>\n",
       "      <td>0.29776</td>\n",
       "    </tr>\n",
       "    <tr>\n",
       "      <th>11860</th>\n",
       "      <td>2013-05-06 16:23:17.370000000</td>\n",
       "      <td>1</td>\n",
       "      <td>FL</td>\n",
       "      <td>True</td>\n",
       "      <td>$75,000-99,999</td>\n",
       "      <td>True</td>\n",
       "      <td>0.14000</td>\n",
       "      <td>6833.333333</td>\n",
       "      <td>36</td>\n",
       "      <td>D</td>\n",
       "      <td>Employed</td>\n",
       "      <td>Current</td>\n",
       "      <td>4000</td>\n",
       "      <td>0.26528</td>\n",
       "    </tr>\n",
       "  </tbody>\n",
       "</table>\n",
       "</div>"
      ],
      "text/plain": [
       "                  ListingCreationDate  ListingCategory (numeric)  \\\n",
       "21161   2010-09-01 11:55:34.210000000                          1   \n",
       "77366   2013-10-11 01:11:16.190000000                          1   \n",
       "90925   2007-11-19 04:46:41.540000000                          0   \n",
       "17625   2013-06-12 08:14:14.717000000                          7   \n",
       "48952   2013-07-12 08:04:13.423000000                          1   \n",
       "7768    2007-08-09 09:29:17.980000000                          0   \n",
       "97119   2013-06-13 13:46:52.023000000                          1   \n",
       "39370   2013-09-12 16:56:41.283000000                          1   \n",
       "39788   2011-10-25 14:16:30.013000000                          3   \n",
       "60848   2013-09-18 10:13:36.430000000                          7   \n",
       "64287   2006-03-14 06:50:23.310000000                          0   \n",
       "65118   2008-02-26 14:20:23.243000000                          1   \n",
       "73539   2007-05-17 09:15:45.613000000                          0   \n",
       "94301   2013-02-20 17:23:23.670000000                          1   \n",
       "109437  2012-03-03 12:34:07.980000000                          8   \n",
       "68803   2013-09-15 06:15:57.923000000                          7   \n",
       "107693  2014-02-10 12:28:49.937000000                         19   \n",
       "78671   2012-11-21 05:40:11.047000000                          3   \n",
       "81917   2007-06-06 04:39:58.487000000                          0   \n",
       "11860   2013-05-06 16:23:17.370000000                          1   \n",
       "\n",
       "       BorrowerState  IsBorrowerHomeowner     IncomeRange  IncomeVerifiable  \\\n",
       "21161             GA                 True  $25,000-49,999              True   \n",
       "77366             NV                False  $50,000-74,999              True   \n",
       "90925             MD                 True       $100,000+              True   \n",
       "17625             OH                False       $1-24,999              True   \n",
       "48952             FL                 True       $1-24,999              True   \n",
       "7768              OH                 True  $25,000-49,999              True   \n",
       "97119             MA                 True  $75,000-99,999              True   \n",
       "39370             IL                False  $25,000-49,999              True   \n",
       "39788             TX                False    Not employed             False   \n",
       "60848             NJ                False  $25,000-49,999              True   \n",
       "64287            NaN                False   Not displayed              True   \n",
       "65118             AZ                False  $25,000-49,999              True   \n",
       "73539             OH                False  $25,000-49,999              True   \n",
       "94301             NJ                 True       $100,000+              True   \n",
       "109437            FL                 True       $100,000+              True   \n",
       "68803             IN                 True  $25,000-49,999              True   \n",
       "107693            TX                False  $50,000-74,999              True   \n",
       "78671             MN                False       $1-24,999              True   \n",
       "81917             GA                 True              $0             False   \n",
       "11860             FL                 True  $75,000-99,999              True   \n",
       "\n",
       "        DebtToIncomeRatio  StatedMonthlyIncome  Term ProsperRating (Alpha)  \\\n",
       "21161             0.30000          2083.333333    36                    HR   \n",
       "77366             0.22000          4916.666667    60                     D   \n",
       "90925             0.14000         11250.000000    36                   NaN   \n",
       "17625             0.50000          1500.000000    36                     C   \n",
       "48952             0.36000          1137.000000    36                     D   \n",
       "7768              0.17000          3208.333333    36                   NaN   \n",
       "97119             0.14000          6500.000000    60                     A   \n",
       "39370             0.20000          3916.666667    60                     E   \n",
       "39788                 NaN             0.000000    36                    HR   \n",
       "60848             0.43000          4003.000000    36                     D   \n",
       "64287             0.30815          3333.333333    36                   NaN   \n",
       "65118             0.36000          2400.000000    36                   NaN   \n",
       "73539             0.43000          3000.000000    36                   NaN   \n",
       "94301             0.12000          9833.333333    36                     E   \n",
       "109437            0.18000          9750.000000    36                     B   \n",
       "68803             0.30000          3040.000000    60                     D   \n",
       "107693            0.15000          5666.666667    36                     A   \n",
       "78671             0.27000          1666.666667    60                     D   \n",
       "81917                 NaN             0.000000    36                   NaN   \n",
       "11860             0.14000          6833.333333    36                     D   \n",
       "\n",
       "       EmploymentStatus  LoanStatus  LoanOriginalAmount  BorrowerAPR  \n",
       "21161         Full-time   Completed                1500      0.21523  \n",
       "77366          Employed     Current               13000      0.26333  \n",
       "90925         Full-time   Completed                9000      0.12700  \n",
       "17625          Employed     Current                4000      0.22712  \n",
       "48952             Other     Current                4000      0.29537  \n",
       "7768          Full-time   Completed                3000      0.22241  \n",
       "97119          Employed     Current               20000      0.14965  \n",
       "39370          Employed     Current               10000      0.29618  \n",
       "39788      Not employed  Chargedoff                4000      0.35643  \n",
       "60848          Employed     Current               10000      0.24614  \n",
       "64287               NaN   Defaulted               20000      0.16617  \n",
       "65118         Full-time   Completed               10000      0.19647  \n",
       "73539         Full-time   Completed               13500      0.16657  \n",
       "94301          Employed   Completed                3000      0.32538  \n",
       "109437         Employed  Chargedoff               15000      0.17359  \n",
       "68803          Employed     Current               10000      0.23318  \n",
       "107693         Employed     Current               10000      0.15260  \n",
       "78671          Employed     Current               10217      0.27462  \n",
       "81917         Full-time  Chargedoff               25000      0.29776  \n",
       "11860          Employed     Current                4000      0.26528  "
      ]
     },
     "execution_count": 5,
     "metadata": {},
     "output_type": "execute_result"
    }
   ],
   "source": [
    "# Visually assess portions of the dataframe containing key features\n",
    "df[key_features].sample(20)"
   ]
  },
  {
   "cell_type": "markdown",
   "metadata": {},
   "source": [
    "Finally, we will check for duplicates, then preview a quick summary of these features, to get an idea of the overall distribution of datatypes, null values and the nomenclature of the column names:"
   ]
  },
  {
   "cell_type": "code",
   "execution_count": 6,
   "metadata": {},
   "outputs": [
    {
     "name": "stdout",
     "output_type": "stream",
     "text": [
      "There are 871 duplicate records in the dataset\n"
     ]
    }
   ],
   "source": [
    "# Examine for duplicates\n",
    "duplicates = df[key_features].duplicated().sum()\n",
    "print('There are {} duplicate records in the dataset'.format(duplicates))"
   ]
  },
  {
   "cell_type": "code",
   "execution_count": 7,
   "metadata": {},
   "outputs": [
    {
     "name": "stdout",
     "output_type": "stream",
     "text": [
      "<class 'pandas.core.frame.DataFrame'>\n",
      "RangeIndex: 113937 entries, 0 to 113936\n",
      "Data columns (total 14 columns):\n",
      " #   Column                     Non-Null Count   Dtype  \n",
      "---  ------                     --------------   -----  \n",
      " 0   ListingCreationDate        113937 non-null  object \n",
      " 1   ListingCategory (numeric)  113937 non-null  int64  \n",
      " 2   BorrowerState              108422 non-null  object \n",
      " 3   IsBorrowerHomeowner        113937 non-null  bool   \n",
      " 4   IncomeRange                113937 non-null  object \n",
      " 5   IncomeVerifiable           113937 non-null  bool   \n",
      " 6   DebtToIncomeRatio          105383 non-null  float64\n",
      " 7   StatedMonthlyIncome        113937 non-null  float64\n",
      " 8   Term                       113937 non-null  int64  \n",
      " 9   ProsperRating (Alpha)      84853 non-null   object \n",
      " 10  EmploymentStatus           111682 non-null  object \n",
      " 11  LoanStatus                 113937 non-null  object \n",
      " 12  LoanOriginalAmount         113937 non-null  int64  \n",
      " 13  BorrowerAPR                113912 non-null  float64\n",
      "dtypes: bool(2), float64(3), int64(3), object(6)\n",
      "memory usage: 10.6+ MB\n"
     ]
    }
   ],
   "source": [
    "df[key_features].info()"
   ]
  },
  {
   "cell_type": "markdown",
   "metadata": {},
   "source": [
    "### Assessment Summary\n",
    "Visual and programmatic assessments, with regards to the features of interest, yeilded the following observations:\n",
    "> 1. Key features need to be isolated from the dataset.\n",
    "> 2. There are 871 duplicate records in the dataset.\n",
    "> 3. **ListingCategory (numeric)** and **ProsperRating (Alpha)** can be reassigned with column names that are easier to work with.\n",
    "> 4. **ListingCreationDate** is stored with the wrong datatype. It should be a pandas datetime object.\n",
    "> 5. The numeric information in **ListingCategory (numeric)** could be better expanded to reflect the actual reasons for the loan. The data dictionary contains helpful information for this.\n",
    "> 6. _Not employed_ entries in **IncomeRange** could be safely replaced with _0_.\n",
    "> 7. Key features for loan favorability (**BorrowerAPR** and **ProsperRating (Alpha)**) contain null values. The **DebtToIncomeRatio** column also contains null values.\n",
    "> 8. **ProsperRating** and **IncomeRange** are ordinal categorical variables and should be stored in ordered form.\n",
    "> 9. Longitude and Latitude information can be collected from external sources to make **BorrowerState** visualizations easier.\n",
    "\n",
    "## Data Cleaning\n",
    "---\n",
    "We will start by creating a copy of the original dataframe, then address each identified issue with brief cleaning workflows:"
   ]
  },
  {
   "cell_type": "code",
   "execution_count": 8,
   "metadata": {},
   "outputs": [],
   "source": [
    "clean_df = df.copy()"
   ]
  },
  {
   "cell_type": "markdown",
   "metadata": {},
   "source": [
    "#### 1. Isolate key features from the dataframe"
   ]
  },
  {
   "cell_type": "code",
   "execution_count": 9,
   "metadata": {},
   "outputs": [],
   "source": [
    "# Filter out the key features from the original dataframe\n",
    "clean_df = clean_df[key_features]\n",
    "\n",
    "# Verify the changes made\n",
    "assert len(clean_df.columns) == len(key_features)"
   ]
  },
  {
   "cell_type": "markdown",
   "metadata": {},
   "source": [
    "#### 2. Drop the duplicate records from the dataframe"
   ]
  },
  {
   "cell_type": "code",
   "execution_count": 10,
   "metadata": {},
   "outputs": [],
   "source": [
    "clean_df = clean_df.drop_duplicates()\n",
    "\n",
    "# Verify results\n",
    "assert not clean_df.duplicated().any()"
   ]
  },
  {
   "cell_type": "markdown",
   "metadata": {
    "tags": []
   },
   "source": [
    "#### 3. Reassign ListingCategory (numeric) and ProsperRating (Alpha) with proper column names"
   ]
  },
  {
   "cell_type": "code",
   "execution_count": 11,
   "metadata": {},
   "outputs": [],
   "source": [
    "# Rename the columns\n",
    "clean_df = clean_df.rename(columns = {'ListingCategory (numeric)': 'ListingCategory', 'ProsperRating (Alpha)': 'ProsperRating'})\n",
    "\n",
    "# verify code results\n",
    "for col_name in ['ListingCategory', 'ProsperRating']:\n",
    "    assert col_name in clean_df.columns"
   ]
  },
  {
   "cell_type": "markdown",
   "metadata": {},
   "source": [
    "#### 4. Convert ListingCreationDate to DateTime object_"
   ]
  },
  {
   "cell_type": "code",
   "execution_count": 12,
   "metadata": {},
   "outputs": [
    {
     "data": {
      "text/plain": [
       "ListingCreationDate    datetime64[ns]\n",
       "ListingCategory                 int64\n",
       "dtype: object"
      ]
     },
     "execution_count": 12,
     "metadata": {},
     "output_type": "execute_result"
    }
   ],
   "source": [
    "clean_df.ListingCreationDate = pd.to_datetime(df.ListingCreationDate)\n",
    "\n",
    "# Verify results\n",
    "clean_df.dtypes[0:2]"
   ]
  },
  {
   "cell_type": "markdown",
   "metadata": {
    "tags": []
   },
   "source": [
    "#### 5. Map the ListingCategory column to the right category titles"
   ]
  },
  {
   "cell_type": "code",
   "execution_count": 13,
   "metadata": {},
   "outputs": [
    {
     "data": {
      "text/plain": [
       "array(['Not Available', 'Home Improvement', 'Motorcycle',\n",
       "       'Debt Consolidation', 'Other', 'Household Expenses', 'Auto',\n",
       "       'Medical or Dental', 'Wedding Loans', 'Vacation', 'Business',\n",
       "       'Taxes', 'Baby & Adoption', 'Personal Loan', 'Engagement Ring',\n",
       "       'Large Purchases', 'Student Use', 'Boat', 'RV',\n",
       "       'Cosmetic Procedure', 'Green Loans'], dtype=object)"
      ]
     },
     "execution_count": 13,
     "metadata": {},
     "output_type": "execute_result"
    }
   ],
   "source": [
    "# Store all the numeric categories and their titles in a dictionary\n",
    "category_titles = {0 : 'Not Available', 1 : 'Debt Consolidation', 2 : 'Home Improvement', 3: 'Business', \n",
    "                   4 : 'Personal Loan', 5 : 'Student Use', 6 : 'Auto', 7 : 'Other', 8 : 'Baby & Adoption', \n",
    "                   9 : 'Boat', 10 : 'Cosmetic Procedure', 11 : 'Engagement Ring', 12 : 'Green Loans',\n",
    "                  13 : 'Household Expenses', 14 : 'Large Purchases', 15 : 'Medical or Dental', 16 : 'Motorcycle',\n",
    "                  17 : 'RV', 18 : 'Taxes', 19 : 'Vacation', 20 : 'Wedding Loans'}\n",
    "\n",
    "# Map the dictionary contents to the ListingCategory column\n",
    "clean_df.ListingCategory = clean_df.ListingCategory.map(category_titles)\n",
    "\n",
    "# Preview results\n",
    "clean_df.ListingCategory.unique()"
   ]
  },
  {
   "cell_type": "markdown",
   "metadata": {},
   "source": [
    "#### 6. Replace 'Not employed' entries in IncomeRange with $0"
   ]
  },
  {
   "cell_type": "code",
   "execution_count": 14,
   "metadata": {},
   "outputs": [],
   "source": [
    "clean_df.IncomeRange = clean_df.IncomeRange.str.replace('Not employed', '$0')\n",
    "\n",
    "# Verify changes\n",
    "assert 'Not employed' not in clean_df.IncomeRange"
   ]
  },
  {
   "cell_type": "markdown",
   "metadata": {},
   "source": [
    "#### 7. Address the null values in BorrowerAPR, ProsperRating, and DebtToIncomeRatio columns\n",
    "**BorrowerAPR** and **ProsperRating** are integral to our analysis. They are our dependent variables. Hence, it is important to maintain the integrity of their data. We will drop the null values if their combined sum is **lesser than 30%** of the records in our entire dataframe. This ensures that we have enough data to analyze even after the null values have been removed.\n",
    "\n",
    "Values in the **DebtToIncomeRatio** column can be null if:\n",
    ">- The borrower has never taken a debt on the platform before.\n",
    ">- The borrower is currently not servicing any debt.\n",
    " \n",
    "As a result, we will only be dealing with null values in the _BorrowerAPR and ProsperRating_ columns."
   ]
  },
  {
   "cell_type": "code",
   "execution_count": 15,
   "metadata": {},
   "outputs": [
    {
     "name": "stdout",
     "output_type": "stream",
     "text": [
      "The combined percentage of null records is 25.5%\n"
     ]
    }
   ],
   "source": [
    "# Create a list of columns with null values\n",
    "null_columns = ['BorrowerAPR', 'ProsperRating']\n",
    "\n",
    "# Estimate the number of null records in each column with a list comprehension\n",
    "null_counts = [clean_df[col].isnull().sum() for col in null_columns]\n",
    "\n",
    "# Calculate the total proportion of null values in the dataframe\n",
    "null_proportion = sum(null_counts) / df.shape[0]\n",
    "\n",
    "print('The combined percentage of null records is ' + str(null_proportion * 100)[:4] + '%')"
   ]
  },
  {
   "cell_type": "markdown",
   "metadata": {},
   "source": [
    "Since the combined percentage is lesser than 30%, we will proceed to drop the null records from our dataframe:"
   ]
  },
  {
   "cell_type": "code",
   "execution_count": 16,
   "metadata": {},
   "outputs": [],
   "source": [
    "# Filter out null values from the dataframe\n",
    "for col in null_columns:\n",
    "    clean_df = clean_df[clean_df[col].notnull()]\n",
    "\n",
    "# Verify results\n",
    "for col in null_columns:\n",
    "    assert clean_df[col].notnull().any()"
   ]
  },
  {
   "cell_type": "markdown",
   "metadata": {},
   "source": [
    "#### 8. Convert ProsperRating and IncomeRange columns to ordered categorical types"
   ]
  },
  {
   "cell_type": "code",
   "execution_count": 17,
   "metadata": {},
   "outputs": [
    {
     "data": {
      "text/plain": [
       "ProsperRating    category\n",
       "IncomeRange      category\n",
       "dtype: object"
      ]
     },
     "execution_count": 17,
     "metadata": {},
     "output_type": "execute_result"
    }
   ],
   "source": [
    "# Store the correct variable orders in a dictionary\n",
    "order_dict = {'ProsperRating': ['HR', 'E', 'D', 'C', 'B', 'A', 'AA'],\n",
    "              'IncomeRange': ['$0', '$1-24,999', '$25,000-49,999', \n",
    "                              '$50,000-74,999', '$75,000-99,999', '$100,000+']}\n",
    "\n",
    "# Assign each column to the proper order\n",
    "for key, value in order_dict.items():\n",
    "    correct_order = pd.api.types.CategoricalDtype(categories=value, ordered=True)\n",
    "    clean_df[key] = clean_df[key].astype(correct_order)\n",
    "\n",
    "# Verify changes\n",
    "clean_df[order_dict.keys()].dtypes"
   ]
  },
  {
   "cell_type": "markdown",
   "metadata": {},
   "source": [
    "## Gathering Additional Data\n",
    "---\n",
    "The information in the **BorrowerState** column is an abbreviation of the different states in the US, depending on the borrower location. To conveniently visualize and explore this kind of information, we will need to pull data from outside sources, especially one that contains the full name, latitude and longitude for each state.\n",
    "\n",
    "A kaggle user [Washim Ahmed](https://www.kaggle.com/washimahmed), has already uploaded this information online. We will download [the csv file](https://www.kaggle.com/datasets/washimahmed/usa-latlong-for-state-abbreviations?resource=download&select=statelatlong.csv) programatically, using the requests library:"
   ]
  },
  {
   "cell_type": "code",
   "execution_count": 18,
   "metadata": {},
   "outputs": [],
   "source": [
    "# Programmatically download the csv file\n",
    "# url = 'https://cutt.ly/fLuimKG'\n",
    "# response = requests.get(url)\n",
    "# with open('state_data.csv', 'wb') as file:\n",
    "#     file.write(response.content)"
   ]
  },
  {
   "cell_type": "code",
   "execution_count": 19,
   "metadata": {},
   "outputs": [
    {
     "data": {
      "text/html": [
       "<div>\n",
       "<style scoped>\n",
       "    .dataframe tbody tr th:only-of-type {\n",
       "        vertical-align: middle;\n",
       "    }\n",
       "\n",
       "    .dataframe tbody tr th {\n",
       "        vertical-align: top;\n",
       "    }\n",
       "\n",
       "    .dataframe thead th {\n",
       "        text-align: right;\n",
       "    }\n",
       "</style>\n",
       "<table border=\"1\" class=\"dataframe\">\n",
       "  <thead>\n",
       "    <tr style=\"text-align: right;\">\n",
       "      <th></th>\n",
       "      <th>State</th>\n",
       "      <th>Latitude</th>\n",
       "      <th>Longitude</th>\n",
       "      <th>City</th>\n",
       "    </tr>\n",
       "  </thead>\n",
       "  <tbody>\n",
       "    <tr>\n",
       "      <th>0</th>\n",
       "      <td>AL</td>\n",
       "      <td>32.601011</td>\n",
       "      <td>-86.680736</td>\n",
       "      <td>Alabama</td>\n",
       "    </tr>\n",
       "    <tr>\n",
       "      <th>1</th>\n",
       "      <td>AK</td>\n",
       "      <td>61.302501</td>\n",
       "      <td>-158.775020</td>\n",
       "      <td>Alaska</td>\n",
       "    </tr>\n",
       "    <tr>\n",
       "      <th>2</th>\n",
       "      <td>AZ</td>\n",
       "      <td>34.168219</td>\n",
       "      <td>-111.930907</td>\n",
       "      <td>Arizona</td>\n",
       "    </tr>\n",
       "  </tbody>\n",
       "</table>\n",
       "</div>"
      ],
      "text/plain": [
       "  State   Latitude   Longitude     City\n",
       "0    AL  32.601011  -86.680736  Alabama\n",
       "1    AK  61.302501 -158.775020   Alaska\n",
       "2    AZ  34.168219 -111.930907  Arizona"
      ]
     },
     "execution_count": 19,
     "metadata": {},
     "output_type": "execute_result"
    }
   ],
   "source": [
    "# Read-in the newly downloaded dataframe\n",
    "state_df = pd.read_csv('./state_data.csv')\n",
    "state_df.head(3)"
   ]
  },
  {
   "cell_type": "markdown",
   "metadata": {},
   "source": [
    "Next, we merge the state dataframe into our cleaned dataframe:"
   ]
  },
  {
   "cell_type": "code",
   "execution_count": 20,
   "metadata": {},
   "outputs": [
    {
     "data": {
      "text/html": [
       "<div>\n",
       "<style scoped>\n",
       "    .dataframe tbody tr th:only-of-type {\n",
       "        vertical-align: middle;\n",
       "    }\n",
       "\n",
       "    .dataframe tbody tr th {\n",
       "        vertical-align: top;\n",
       "    }\n",
       "\n",
       "    .dataframe thead th {\n",
       "        text-align: right;\n",
       "    }\n",
       "</style>\n",
       "<table border=\"1\" class=\"dataframe\">\n",
       "  <thead>\n",
       "    <tr style=\"text-align: right;\">\n",
       "      <th></th>\n",
       "      <th>ListingCreationDate</th>\n",
       "      <th>ListingCategory</th>\n",
       "      <th>BorrowerState</th>\n",
       "      <th>IsBorrowerHomeowner</th>\n",
       "      <th>IncomeRange</th>\n",
       "      <th>IncomeVerifiable</th>\n",
       "      <th>DebtToIncomeRatio</th>\n",
       "      <th>StatedMonthlyIncome</th>\n",
       "      <th>Term</th>\n",
       "      <th>ProsperRating</th>\n",
       "      <th>EmploymentStatus</th>\n",
       "      <th>LoanStatus</th>\n",
       "      <th>LoanOriginalAmount</th>\n",
       "      <th>BorrowerAPR</th>\n",
       "      <th>State</th>\n",
       "      <th>Latitude</th>\n",
       "      <th>Longitude</th>\n",
       "      <th>City</th>\n",
       "    </tr>\n",
       "  </thead>\n",
       "  <tbody>\n",
       "    <tr>\n",
       "      <th>0</th>\n",
       "      <td>2014-02-27 08:28:07.900</td>\n",
       "      <td>Home Improvement</td>\n",
       "      <td>CO</td>\n",
       "      <td>False</td>\n",
       "      <td>$50,000-74,999</td>\n",
       "      <td>True</td>\n",
       "      <td>0.18</td>\n",
       "      <td>6125.000000</td>\n",
       "      <td>36</td>\n",
       "      <td>A</td>\n",
       "      <td>Employed</td>\n",
       "      <td>Current</td>\n",
       "      <td>10000</td>\n",
       "      <td>0.12016</td>\n",
       "      <td>CO</td>\n",
       "      <td>38.997934</td>\n",
       "      <td>-105.550567</td>\n",
       "      <td>Colorado</td>\n",
       "    </tr>\n",
       "    <tr>\n",
       "      <th>1</th>\n",
       "      <td>2010-06-16 16:23:44.533</td>\n",
       "      <td>Debt Consolidation</td>\n",
       "      <td>CO</td>\n",
       "      <td>True</td>\n",
       "      <td>$75,000-99,999</td>\n",
       "      <td>True</td>\n",
       "      <td>0.26</td>\n",
       "      <td>6666.666667</td>\n",
       "      <td>36</td>\n",
       "      <td>A</td>\n",
       "      <td>Full-time</td>\n",
       "      <td>Completed</td>\n",
       "      <td>4000</td>\n",
       "      <td>0.11296</td>\n",
       "      <td>CO</td>\n",
       "      <td>38.997934</td>\n",
       "      <td>-105.550567</td>\n",
       "      <td>Colorado</td>\n",
       "    </tr>\n",
       "    <tr>\n",
       "      <th>2</th>\n",
       "      <td>2013-05-01 08:18:59.183</td>\n",
       "      <td>Debt Consolidation</td>\n",
       "      <td>CO</td>\n",
       "      <td>True</td>\n",
       "      <td>$50,000-74,999</td>\n",
       "      <td>True</td>\n",
       "      <td>0.35</td>\n",
       "      <td>5416.666667</td>\n",
       "      <td>36</td>\n",
       "      <td>A</td>\n",
       "      <td>Employed</td>\n",
       "      <td>Current</td>\n",
       "      <td>15000</td>\n",
       "      <td>0.15833</td>\n",
       "      <td>CO</td>\n",
       "      <td>38.997934</td>\n",
       "      <td>-105.550567</td>\n",
       "      <td>Colorado</td>\n",
       "    </tr>\n",
       "  </tbody>\n",
       "</table>\n",
       "</div>"
      ],
      "text/plain": [
       "      ListingCreationDate     ListingCategory BorrowerState  \\\n",
       "0 2014-02-27 08:28:07.900    Home Improvement            CO   \n",
       "1 2010-06-16 16:23:44.533  Debt Consolidation            CO   \n",
       "2 2013-05-01 08:18:59.183  Debt Consolidation            CO   \n",
       "\n",
       "   IsBorrowerHomeowner     IncomeRange  IncomeVerifiable  DebtToIncomeRatio  \\\n",
       "0                False  $50,000-74,999              True               0.18   \n",
       "1                 True  $75,000-99,999              True               0.26   \n",
       "2                 True  $50,000-74,999              True               0.35   \n",
       "\n",
       "   StatedMonthlyIncome  Term ProsperRating EmploymentStatus LoanStatus  \\\n",
       "0          6125.000000    36             A         Employed    Current   \n",
       "1          6666.666667    36             A        Full-time  Completed   \n",
       "2          5416.666667    36             A         Employed    Current   \n",
       "\n",
       "   LoanOriginalAmount  BorrowerAPR State   Latitude   Longitude      City  \n",
       "0               10000      0.12016    CO  38.997934 -105.550567  Colorado  \n",
       "1                4000      0.11296    CO  38.997934 -105.550567  Colorado  \n",
       "2               15000      0.15833    CO  38.997934 -105.550567  Colorado  "
      ]
     },
     "execution_count": 20,
     "metadata": {},
     "output_type": "execute_result"
    }
   ],
   "source": [
    "# Merge clean_df and state_df\n",
    "loan_df = pd.merge(clean_df, state_df, left_on='BorrowerState', right_on='State')\n",
    "loan_df.head(3)"
   ]
  },
  {
   "cell_type": "markdown",
   "metadata": {},
   "source": [
    "Finally, we will assign the full state name to the **BorrowerState** column, then drop unwanted or redundant columns like **State** and **City**:"
   ]
  },
  {
   "cell_type": "code",
   "execution_count": 21,
   "metadata": {},
   "outputs": [],
   "source": [
    "# Rename and drop redundant columns\n",
    "loan_df.BorrowerState = loan_df.City\n",
    "loan_df.drop(columns = ['State', 'City'], inplace=True)"
   ]
  },
  {
   "cell_type": "code",
   "execution_count": 22,
   "metadata": {},
   "outputs": [
    {
     "name": "stdout",
     "output_type": "stream",
     "text": [
      "<class 'pandas.core.frame.DataFrame'>\n",
      "Int64Index: 83982 entries, 0 to 83981\n",
      "Data columns (total 16 columns):\n",
      " #   Column               Non-Null Count  Dtype         \n",
      "---  ------               --------------  -----         \n",
      " 0   ListingCreationDate  83982 non-null  datetime64[ns]\n",
      " 1   ListingCategory      83982 non-null  object        \n",
      " 2   BorrowerState        83982 non-null  object        \n",
      " 3   IsBorrowerHomeowner  83982 non-null  bool          \n",
      " 4   IncomeRange          83982 non-null  category      \n",
      " 5   IncomeVerifiable     83982 non-null  bool          \n",
      " 6   DebtToIncomeRatio    76768 non-null  float64       \n",
      " 7   StatedMonthlyIncome  83982 non-null  float64       \n",
      " 8   Term                 83982 non-null  int64         \n",
      " 9   ProsperRating        83982 non-null  category      \n",
      " 10  EmploymentStatus     83982 non-null  object        \n",
      " 11  LoanStatus           83982 non-null  object        \n",
      " 12  LoanOriginalAmount   83982 non-null  int64         \n",
      " 13  BorrowerAPR          83982 non-null  float64       \n",
      " 14  Latitude             83982 non-null  float64       \n",
      " 15  Longitude            83982 non-null  float64       \n",
      "dtypes: bool(2), category(2), datetime64[ns](1), float64(5), int64(2), object(4)\n",
      "memory usage: 8.7+ MB\n"
     ]
    }
   ],
   "source": [
    "loan_df.info()"
   ]
  },
  {
   "cell_type": "markdown",
   "metadata": {},
   "source": [
    "Our final dataframe comprises **83,982** rows and **16** colums. This is sufficient enough for exploratory analysis.\n",
    "\n",
    "## Exploratory Data Analysis\n",
    "---\n",
    "We will explore our data systematically by building univariate, bivariate and multivariate visualizations. The Question-Visualization-Observations frame work will be utilized throughout the exploration process. \n",
    "\n",
    "To build an intuition of how the numeric values are distributed, it is advisable to compute the descriptive statistics of the relevant numeric columns. This will be immensely helpful when configuring histogram bins during univariate explorations."
   ]
  },
  {
   "cell_type": "code",
   "execution_count": 23,
   "metadata": {},
   "outputs": [
    {
     "data": {
      "text/html": [
       "<div>\n",
       "<style scoped>\n",
       "    .dataframe tbody tr th:only-of-type {\n",
       "        vertical-align: middle;\n",
       "    }\n",
       "\n",
       "    .dataframe tbody tr th {\n",
       "        vertical-align: top;\n",
       "    }\n",
       "\n",
       "    .dataframe thead th {\n",
       "        text-align: right;\n",
       "    }\n",
       "</style>\n",
       "<table border=\"1\" class=\"dataframe\">\n",
       "  <thead>\n",
       "    <tr style=\"text-align: right;\">\n",
       "      <th></th>\n",
       "      <th>DebtToIncomeRatio</th>\n",
       "      <th>StatedMonthlyIncome</th>\n",
       "      <th>Term</th>\n",
       "      <th>LoanOriginalAmount</th>\n",
       "      <th>BorrowerAPR</th>\n",
       "      <th>Latitude</th>\n",
       "      <th>Longitude</th>\n",
       "    </tr>\n",
       "  </thead>\n",
       "  <tbody>\n",
       "    <tr>\n",
       "      <th>count</th>\n",
       "      <td>76768.000000</td>\n",
       "      <td>8.398200e+04</td>\n",
       "      <td>83982.000000</td>\n",
       "      <td>83982.000000</td>\n",
       "      <td>83982.000000</td>\n",
       "      <td>83982.000000</td>\n",
       "      <td>83982.000000</td>\n",
       "    </tr>\n",
       "    <tr>\n",
       "      <th>mean</th>\n",
       "      <td>0.258692</td>\n",
       "      <td>5.930614e+03</td>\n",
       "      <td>42.462813</td>\n",
       "      <td>9061.224381</td>\n",
       "      <td>0.226945</td>\n",
       "      <td>37.657466</td>\n",
       "      <td>-91.232628</td>\n",
       "    </tr>\n",
       "    <tr>\n",
       "      <th>std</th>\n",
       "      <td>0.319727</td>\n",
       "      <td>8.268432e+03</td>\n",
       "      <td>11.639032</td>\n",
       "      <td>6279.649648</td>\n",
       "      <td>0.080047</td>\n",
       "      <td>4.721124</td>\n",
       "      <td>16.090169</td>\n",
       "    </tr>\n",
       "    <tr>\n",
       "      <th>min</th>\n",
       "      <td>0.000000</td>\n",
       "      <td>0.000000e+00</td>\n",
       "      <td>12.000000</td>\n",
       "      <td>1000.000000</td>\n",
       "      <td>0.045830</td>\n",
       "      <td>20.460000</td>\n",
       "      <td>-158.775020</td>\n",
       "    </tr>\n",
       "    <tr>\n",
       "      <th>25%</th>\n",
       "      <td>0.150000</td>\n",
       "      <td>3.426938e+03</td>\n",
       "      <td>36.000000</td>\n",
       "      <td>4000.000000</td>\n",
       "      <td>0.163610</td>\n",
       "      <td>35.214563</td>\n",
       "      <td>-100.076842</td>\n",
       "    </tr>\n",
       "    <tr>\n",
       "      <th>50%</th>\n",
       "      <td>0.220000</td>\n",
       "      <td>5.000000e+03</td>\n",
       "      <td>36.000000</td>\n",
       "      <td>7500.000000</td>\n",
       "      <td>0.219450</td>\n",
       "      <td>38.498779</td>\n",
       "      <td>-86.415805</td>\n",
       "    </tr>\n",
       "    <tr>\n",
       "      <th>75%</th>\n",
       "      <td>0.320000</td>\n",
       "      <td>7.083333e+03</td>\n",
       "      <td>60.000000</td>\n",
       "      <td>13500.000000</td>\n",
       "      <td>0.292540</td>\n",
       "      <td>40.705626</td>\n",
       "      <td>-79.458786</td>\n",
       "    </tr>\n",
       "    <tr>\n",
       "      <th>max</th>\n",
       "      <td>10.010000</td>\n",
       "      <td>1.750003e+06</td>\n",
       "      <td>60.000000</td>\n",
       "      <td>35000.000000</td>\n",
       "      <td>0.423950</td>\n",
       "      <td>61.302501</td>\n",
       "      <td>-71.506451</td>\n",
       "    </tr>\n",
       "  </tbody>\n",
       "</table>\n",
       "</div>"
      ],
      "text/plain": [
       "       DebtToIncomeRatio  StatedMonthlyIncome          Term  \\\n",
       "count       76768.000000         8.398200e+04  83982.000000   \n",
       "mean            0.258692         5.930614e+03     42.462813   \n",
       "std             0.319727         8.268432e+03     11.639032   \n",
       "min             0.000000         0.000000e+00     12.000000   \n",
       "25%             0.150000         3.426938e+03     36.000000   \n",
       "50%             0.220000         5.000000e+03     36.000000   \n",
       "75%             0.320000         7.083333e+03     60.000000   \n",
       "max            10.010000         1.750003e+06     60.000000   \n",
       "\n",
       "       LoanOriginalAmount   BorrowerAPR      Latitude     Longitude  \n",
       "count        83982.000000  83982.000000  83982.000000  83982.000000  \n",
       "mean          9061.224381      0.226945     37.657466    -91.232628  \n",
       "std           6279.649648      0.080047      4.721124     16.090169  \n",
       "min           1000.000000      0.045830     20.460000   -158.775020  \n",
       "25%           4000.000000      0.163610     35.214563   -100.076842  \n",
       "50%           7500.000000      0.219450     38.498779    -86.415805  \n",
       "75%          13500.000000      0.292540     40.705626    -79.458786  \n",
       "max          35000.000000      0.423950     61.302501    -71.506451  "
      ]
     },
     "execution_count": 23,
     "metadata": {},
     "output_type": "execute_result"
    }
   ],
   "source": [
    "# Compute descriptive statistics for all numeric columns\n",
    "loan_df.describe()"
   ]
  },
  {
   "cell_type": "markdown",
   "metadata": {},
   "source": [
    "### A. Univariate Exploration\n",
    "---\n",
    "The BorrowerAPR (Annual percentage rate) is one of our key features of interest. Let's start by exploring how the feature is distributed throughout our loan dataset:\n",
    "#### Question One: How are Borrower APR values distributed in the dataset, do the majority of loans have high or low APR values?\n",
    "   \n",
    "#### Visualization"
   ]
  },
  {
   "cell_type": "code",
   "execution_count": 24,
   "metadata": {},
   "outputs": [
    {
     "data": {
      "image/png": "[encoded data removed]",
      "text/plain": [
       "<Figure size 576x288 with 1 Axes>"
      ]
     },
     "metadata": {
      "image/png": {
       "height": 261,
       "width": 493
      },
      "needs_background": "light"
     },
     "output_type": "display_data"
    }
   ],
   "source": [
    "# Set color for all univariate plots\n",
    "main_color = sns.color_palette()[3]\n",
    "\n",
    "# Create 40 evenly spaced bins for Borrower APR from zero to the maximum value\n",
    "bins = np.linspace(0, loan_df.BorrowerAPR.max(), 40)\n",
    "\n",
    "plt.figure(figsize=(8, 4))\n",
    "plt.hist(data=loan_df, x='BorrowerAPR', bins=bins, color = main_color);\n",
    "plt.xticks(np.arange(0, 0.45, 0.05))\n",
    "plt.xlabel('Borrower APR');"
   ]
  },
  {
   "cell_type": "markdown",
   "metadata": {},
   "source": [
    "#### Observations\n",
    ">-  Borrower APR appears to follow a multimodal distribution, with peaks around 0.09, 0.2 and 0.3 respectively. A very sharp peak can also be seen between 0.35 and 0.36. In general, only few listings have borrower APR greater than 0.4.\n",
    "\n",
    "Next, we will explore the debt-to-income ratio feature for some quick insights into possible borrower preferences.\n",
    "  \n",
    "#### Question Two: How are the values for Debt-to-income ratio distributed, are borrowers taking more debt than their income could possibly handle?\n",
    "#### Visualization"
   ]
  },
  {
   "cell_type": "code",
   "execution_count": 25,
   "metadata": {},
   "outputs": [
    {
     "data": {
      "image/png": "[encoded data removed]",
      "text/plain": [
       "<Figure size 576x576 with 2 Axes>"
      ]
     },
     "metadata": {
      "image/png": {
       "height": 479,
       "width": 499
      },
      "needs_background": "light"
     },
     "output_type": "display_data"
    }
   ],
   "source": [
    "plt.figure(figsize=(8, 8))\n",
    "\n",
    "# Plot a general distribution with 30 bins.\n",
    "plt.subplot(2,1,1)\n",
    "plt.hist(data=loan_df, x='DebtToIncomeRatio', bins=30, color = main_color)\n",
    "plt.xlabel('DebtToIncomeRatio');\n",
    "\n",
    "# Zoom into the distribution and examine closely, with evenly spaced bins\n",
    "bins = np.linspace(0, 2, 50)\n",
    "plt.subplot(2,1,2)\n",
    "plt.hist(data=loan_df, x='DebtToIncomeRatio', bins=bins, color = main_color)\n",
    "plt.xlabel('DebtToIncomeRatio');"
   ]
  },
  {
   "cell_type": "markdown",
   "metadata": {},
   "source": [
    "#### Observations\n",
    ">- The distribution of Debt-to-Income ratio is right skewed. Most borrowers seem to prefer taking loans within their means. This can be seen as the bulk of values are distributed between 0 and 1. \n",
    ">- Zooming into this distribution, we see a peak around 0.20 and 0.25. This may suggest that borrowers prefer to maintain debt ratios of quarter to one-fifths of their income. This seems like a wise way to live within their means.\n",
    "\n",
    "Since we have just gathered a few insights from the distribution of debt-to-income ratios, it would be great to see how the actual monthly incomes of borrowers are distributed too. To gather this insight, we will need to explore the **StatedMonthlyIncome** feature:\n",
    "\n",
    "#### Question Three: How are monthly incomes distributed among borrowers on the platform?\n",
    "#### Visualization"
   ]
  },
  {
   "cell_type": "code",
   "execution_count": 26,
   "metadata": {},
   "outputs": [
    {
     "data": {
      "image/png": "[encoded data removed]",
      "text/plain": [
       "<Figure size 576x576 with 2 Axes>"
      ]
     },
     "metadata": {
      "image/png": {
       "height": 479,
       "width": 512
      },
      "needs_background": "light"
     },
     "output_type": "display_data"
    }
   ],
   "source": [
    "plt.figure(figsize=(8, 8))\n",
    "\n",
    "# Plot a standard scaled plot\n",
    "plt.subplot(2, 1, 1)\n",
    "plt.ticklabel_format(style='plain')\n",
    "plt.hist(data=loan_df, x='StatedMonthlyIncome', bins=100, color = main_color)\n",
    "plt.xlabel('Stated Monthly Income ($)');\n",
    "\n",
    "# Make a transformed plot to account for the severe right skew\n",
    "plt.subplot(2, 1, 2)\n",
    "# Transform the highest income value to log scale\n",
    "bins_max = np.log10(loan_df.StatedMonthlyIncome.max())\n",
    "\n",
    "# Create 100 evenly transformed bins to hold data groups\n",
    "bins_trans = 10 ** np.linspace(0, bins_max, 100)\n",
    "plt.hist(data=loan_df, x='StatedMonthlyIncome', bins=bins_trans, color = main_color)\n",
    "\n",
    "# Convert x axis to logarithmic scale\n",
    "plt.xscale('log')\n",
    "\n",
    "# Create evenly spaced x-axis tick marks from 300 - 100,000 USD\n",
    "plt.xticks([3e2, 1e3, 3e3, 1e4, 3e4, 1e5], \n",
    "           ['0.3k', '1k', '3k', '10k', '30k', '100k']);\n",
    "\n",
    "plt.xlim(1e2, 1e5)\n",
    "plt.xlabel('Stated Monthly Income ($)');"
   ]
  },
  {
   "cell_type": "markdown",
   "metadata": {},
   "source": [
    "#### Observations\n",
    ">- The distribution of stated monthly income is severely right skewed, due to the presence of high earners among the mix. The first plot shows that most borrower incomes are below 250,000 dollars. \n",
    ">- Accounting for the large variation in income with a log scale, then zooming into the 0 and 100,000 range, leads us to find that many borrowers earn between 1,000 to 30,000 US dollars monthly, with a peak around 5,000 US dollars.\n",
    "\n",
    "Next, we will explore the actual loan amounts that borrowers are applying for. This information can be found in the **LoanOriginalAmount** column.\n",
    "\n",
    "#### Question Four: What is the distribution of loan amounts requested by borrowers?\n",
    "#### Visualization"
   ]
  },
  {
   "cell_type": "code",
   "execution_count": 27,
   "metadata": {},
   "outputs": [
    {
     "data": {
      "image/png": "[encoded data removed]",
      "text/plain": [
       "<Figure size 576x288 with 1 Axes>"
      ]
     },
     "metadata": {
      "image/png": {
       "height": 261,
       "width": 499
      },
      "needs_background": "light"
     },
     "output_type": "display_data"
    }
   ],
   "source": [
    "plt.figure(figsize=(8, 4))\n",
    "bins = np.linspace(0, loan_df.LoanOriginalAmount.max(), 50)\n",
    "plt.hist(data=loan_df, x='LoanOriginalAmount', bins=bins, color = main_color)\n",
    "plt.xlabel('Loan original amount ($)');"
   ]
  },
  {
   "cell_type": "markdown",
   "metadata": {},
   "source": [
    "#### Observations\n",
    ">- The loan amounts show interesting spikes arouund multiples of 5,000. This **may** suggest that most borrowers request loans in mutiples of 5,000 for convenience of using a round figure. It is also clear that the majority of the loans do not exceed 15,000 US dollars."
   ]
  },
  {
   "cell_type": "code",
   "execution_count": null,
   "metadata": {},
   "outputs": [],
   "source": []
  }
 ],
 "metadata": {
  "kernelspec": {
   "display_name": "Python 3 (ipykernel)",
   "language": "python",
   "name": "python3"
  },
  "language_info": {
   "codemirror_mode": {
    "name": "ipython",
    "version": 3
   },
   "file_extension": ".py",
   "mimetype": "text/x-python",
   "name": "python",
   "nbconvert_exporter": "python",
   "pygments_lexer": "ipython3",
   "version": "3.9.7"
  }
 },
 "nbformat": 4,
 "nbformat_minor": 4
}
